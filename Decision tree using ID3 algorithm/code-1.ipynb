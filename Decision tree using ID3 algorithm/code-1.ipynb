{
 "cells": [
  {
   "cell_type": "code",
   "execution_count": 2,
   "metadata": {},
   "outputs": [],
   "source": [
    "import pandas as pd\n",
    "import numpy as np\n",
    "import matplotlib.pyplot as plt\n",
    "import seaborn as sns"
   ]
  },
  {
   "cell_type": "code",
   "execution_count": 3,
   "metadata": {},
   "outputs": [],
   "source": [
    "df=pd.read_csv(\"D:\\\\datasets\\\\archive (1)\\\\PlayTennis.csv\")"
   ]
  },
  {
   "cell_type": "code",
   "execution_count": 4,
   "metadata": {},
   "outputs": [
    {
     "name": "stdout",
     "output_type": "stream",
     "text": [
      "Target Attribute is   ➡  Play Tennis\n",
      "Predicting Attributes ➡  ['Outlook', 'Temperature', 'Humidity', 'Wind']\n"
     ]
    }
   ],
   "source": [
    "t = df.keys()[-1]\n",
    "print('Target Attribute is   ➡ ', t)\n",
    "\n",
    "attribute_names = list(df.keys())\n",
    "\n",
    "attribute_names.remove(t) \n",
    "\n",
    "print('Predicting Attributes ➡ ', attribute_names)"
   ]
  },
  {
   "cell_type": "code",
   "execution_count": 5,
   "metadata": {},
   "outputs": [],
   "source": [
    "import math\n",
    "def entropy(probs):  \n",
    "    return sum( [-prob*math.log(prob, 2) for prob in probs])\n",
    "\n",
    "def entropy_of_list(ls,value):  \n",
    "    from collections import Counter\n",
    "    \n",
    "    total_instances = len(ls)  \n",
    "    print(\"---------------------------------------------------------\")\n",
    "    print(\"\\nTotal no of instances/records associated with '{0}' is ➡ {1}\".format(value,total_instances))\n",
    "\n",
    "    cnt = Counter(x for x in ls)\n",
    "    print('\\nTarget attribute class count(Yes/No)=',dict(cnt))\n",
    "    \n",
    "    probs = [x / total_instances for x in cnt.values()]  \n",
    "    print(\"\\nClasses➡\", max(cnt), min(cnt))\n",
    "    print(\"\\nProbabilities of Class 'p'='{0}' ➡ {1}\".format(max(cnt),max(probs)))\n",
    "    print(\"Probabilities of Class 'n'='{0}'  ➡ {1}\".format(min(cnt),min(probs)))\n",
    "    \n",
    "    return entropy(probs) "
   ]
  },
  {
   "cell_type": "code",
   "execution_count": 6,
   "metadata": {},
   "outputs": [],
   "source": [
    "def information_gain(df, split_attribute, target_attribute,battr):\n",
    "    print(\"\\n\\n----- Information Gain Calculation of\",split_attribute,\"----- \") \n",
    "    \n",
    "    df_split = df.groupby(split_attribute) \n",
    "    glist=[]\n",
    "    for gname,group in df_split:\n",
    "        print('Grouped Attribute Values \\n',group)\n",
    "        print(\"---------------------------------------------------------\")\n",
    "        glist.append(gname) \n",
    "    \n",
    "    glist.reverse()\n",
    "    nobs = len(df.index) * 1.0   \n",
    "    df_agg1=df_split.agg({target_attribute:lambda x:entropy_of_list(x, glist.pop())})\n",
    "    df_agg2=df_split.agg({target_attribute :lambda x:len(x)/nobs})\n",
    "    \n",
    "    df_agg1.columns=['Entropy']\n",
    "    df_agg2.columns=['Proportion']\n",
    "    \n",
    "    new_entropy = sum( df_agg1['Entropy'] * df_agg2['Proportion'])\n",
    "    if battr !='S':\n",
    "        old_entropy = entropy_of_list(df[target_attribute],'S-'+df.iloc[0][df.columns.get_loc(battr)])\n",
    "    else:\n",
    "        old_entropy = entropy_of_list(df[target_attribute],battr)\n",
    "    return old_entropy - new_entropy"
   ]
  },
  {
   "cell_type": "code",
   "execution_count": 7,
   "metadata": {},
   "outputs": [],
   "source": [
    "def id3(df, target_attribute, attribute_names, default_class=None,default_attr='S'):\n",
    "    \n",
    "    from collections import Counter\n",
    "    cnt = Counter(x for x in df[target_attribute])\n",
    "    \n",
    "    if len(cnt) == 1:\n",
    "        return next(iter(cnt))  \n",
    "    \n",
    "    elif df.empty or (not attribute_names):\n",
    "        return default_class  \n",
    "    \n",
    "    else:\n",
    "        default_class = max(cnt.keys()) \n",
    "        gainz=[]\n",
    "        for attr in attribute_names:\n",
    "            ig= information_gain(df, attr, target_attribute,default_attr)\n",
    "            gainz.append(ig)\n",
    "            print('\\nInformation gain of','“',attr,'”','is ➡', ig)\n",
    "            print(\"=========================================================\")\n",
    "        \n",
    "        index_of_max = gainz.index(max(gainz))              \n",
    "        best_attr = attribute_names[index_of_max]           \n",
    "        print(\"\\nList of Gain for arrtibutes:\",attribute_names,\"\\nare:\", gainz,\"respectively.\")\n",
    "        print(\"\\nAttribute with the maximum gain is ➡\", best_attr)\n",
    "        print(\"\\nHence, the Root node will be ➡\", best_attr)\n",
    "        print(\"=========================================================\")\n",
    "\n",
    "        remaining_attribute_names =[i for i in attribute_names if i != best_attr]\n",
    "        \n",
    "        for attr_val, data_subset in df.groupby(best_attr):\n",
    "            subtree = id3(data_subset,target_attribute, remaining_attribute_names,default_class,best_attr)\n",
    "            tree[best_attr][attr_val] = subtree\n",
    "        return tree"
   ]
  },
  {
   "cell_type": "code",
   "execution_count": 8,
   "metadata": {},
   "outputs": [
    {
     "name": "stdout",
     "output_type": "stream",
     "text": [
      "Entropy calculation for input dataset:\n",
      "\n",
      "0      No\n",
      "1      No\n",
      "2     Yes\n",
      "3     Yes\n",
      "4     Yes\n",
      "5      No\n",
      "6     Yes\n",
      "7      No\n",
      "8     Yes\n",
      "9     Yes\n",
      "10    Yes\n",
      "11    Yes\n",
      "12    Yes\n",
      "13     No\n",
      "Name: Play Tennis, dtype: object\n",
      "\n",
      "Number of Instances of the Current Sub-Class is 14.0\n",
      "\n",
      "Classes➡ 'p'= Yes 'n'= No\n",
      "\n",
      "Probabilities of Class 'p'='Yes' ➡ 0.6428571428571429\n",
      "Probabilities of Class 'n'='No'  ➡ 0.35714285714285715\n",
      "\n",
      "Total Entropy(S) of Play Tennis Dataset➡ 0.9402859586706309\n",
      "=========================================================\n",
      "\n",
      "\n",
      "----- Information Gain Calculation of Outlook ----- \n",
      "Grouped Attribute Values \n",
      "      Outlook Temperature Humidity    Wind Play Tennis\n",
      "2   Overcast         Hot     High    Weak         Yes\n",
      "6   Overcast        Cool   Normal  Strong         Yes\n",
      "11  Overcast        Mild     High  Strong         Yes\n",
      "12  Overcast         Hot   Normal    Weak         Yes\n",
      "---------------------------------------------------------\n",
      "Grouped Attribute Values \n",
      "    Outlook Temperature Humidity    Wind Play Tennis\n",
      "3     Rain        Mild     High    Weak         Yes\n",
      "4     Rain        Cool   Normal    Weak         Yes\n",
      "5     Rain        Cool   Normal  Strong          No\n",
      "9     Rain        Mild   Normal    Weak         Yes\n",
      "13    Rain        Mild     High  Strong          No\n",
      "---------------------------------------------------------\n",
      "Grouped Attribute Values \n",
      "    Outlook Temperature Humidity    Wind Play Tennis\n",
      "0    Sunny         Hot     High    Weak          No\n",
      "1    Sunny         Hot     High  Strong          No\n",
      "7    Sunny        Mild     High    Weak          No\n",
      "8    Sunny        Cool   Normal    Weak         Yes\n",
      "10   Sunny        Mild   Normal  Strong         Yes\n",
      "---------------------------------------------------------\n",
      "---------------------------------------------------------\n",
      "\n",
      "Total no of instances/records associated with 'Overcast' is ➡ 4\n",
      "\n",
      "Target attribute class count(Yes/No)= {'Yes': 4}\n",
      "\n",
      "Classes➡ Yes Yes\n",
      "\n",
      "Probabilities of Class 'p'='Yes' ➡ 1.0\n",
      "Probabilities of Class 'n'='Yes'  ➡ 1.0\n",
      "---------------------------------------------------------\n",
      "\n",
      "Total no of instances/records associated with 'Rain' is ➡ 5\n",
      "\n",
      "Target attribute class count(Yes/No)= {'Yes': 3, 'No': 2}\n",
      "\n",
      "Classes➡ Yes No\n",
      "\n",
      "Probabilities of Class 'p'='Yes' ➡ 0.6\n",
      "Probabilities of Class 'n'='No'  ➡ 0.4\n",
      "---------------------------------------------------------\n",
      "\n",
      "Total no of instances/records associated with 'Sunny' is ➡ 5\n",
      "\n",
      "Target attribute class count(Yes/No)= {'No': 3, 'Yes': 2}\n",
      "\n",
      "Classes➡ Yes No\n",
      "\n",
      "Probabilities of Class 'p'='Yes' ➡ 0.6\n",
      "Probabilities of Class 'n'='No'  ➡ 0.4\n",
      "---------------------------------------------------------\n",
      "\n",
      "Total no of instances/records associated with 'S' is ➡ 14\n",
      "\n",
      "Target attribute class count(Yes/No)= {'No': 5, 'Yes': 9}\n",
      "\n",
      "Classes➡ Yes No\n",
      "\n",
      "Probabilities of Class 'p'='Yes' ➡ 0.6428571428571429\n",
      "Probabilities of Class 'n'='No'  ➡ 0.35714285714285715\n",
      "\n",
      "Information gain of “ Outlook ” is ➡ 0.2467498197744391\n",
      "=========================================================\n",
      "\n",
      "\n",
      "----- Information Gain Calculation of Temperature ----- \n",
      "Grouped Attribute Values \n",
      "     Outlook Temperature Humidity    Wind Play Tennis\n",
      "4      Rain        Cool   Normal    Weak         Yes\n",
      "5      Rain        Cool   Normal  Strong          No\n",
      "6  Overcast        Cool   Normal  Strong         Yes\n",
      "8     Sunny        Cool   Normal    Weak         Yes\n",
      "---------------------------------------------------------\n",
      "Grouped Attribute Values \n",
      "      Outlook Temperature Humidity    Wind Play Tennis\n",
      "0      Sunny         Hot     High    Weak          No\n",
      "1      Sunny         Hot     High  Strong          No\n",
      "2   Overcast         Hot     High    Weak         Yes\n",
      "12  Overcast         Hot   Normal    Weak         Yes\n",
      "---------------------------------------------------------\n",
      "Grouped Attribute Values \n",
      "      Outlook Temperature Humidity    Wind Play Tennis\n",
      "3       Rain        Mild     High    Weak         Yes\n",
      "7      Sunny        Mild     High    Weak          No\n",
      "9       Rain        Mild   Normal    Weak         Yes\n",
      "10     Sunny        Mild   Normal  Strong         Yes\n",
      "11  Overcast        Mild     High  Strong         Yes\n",
      "13      Rain        Mild     High  Strong          No\n",
      "---------------------------------------------------------\n",
      "---------------------------------------------------------\n",
      "\n",
      "Total no of instances/records associated with 'Cool' is ➡ 4\n",
      "\n",
      "Target attribute class count(Yes/No)= {'Yes': 3, 'No': 1}\n",
      "\n",
      "Classes➡ Yes No\n",
      "\n",
      "Probabilities of Class 'p'='Yes' ➡ 0.75\n",
      "Probabilities of Class 'n'='No'  ➡ 0.25\n",
      "---------------------------------------------------------\n",
      "\n",
      "Total no of instances/records associated with 'Hot' is ➡ 4\n",
      "\n",
      "Target attribute class count(Yes/No)= {'No': 2, 'Yes': 2}\n",
      "\n",
      "Classes➡ Yes No\n",
      "\n",
      "Probabilities of Class 'p'='Yes' ➡ 0.5\n",
      "Probabilities of Class 'n'='No'  ➡ 0.5\n",
      "---------------------------------------------------------\n",
      "\n",
      "Total no of instances/records associated with 'Mild' is ➡ 6\n",
      "\n",
      "Target attribute class count(Yes/No)= {'Yes': 4, 'No': 2}\n",
      "\n",
      "Classes➡ Yes No\n",
      "\n",
      "Probabilities of Class 'p'='Yes' ➡ 0.6666666666666666\n",
      "Probabilities of Class 'n'='No'  ➡ 0.3333333333333333\n",
      "---------------------------------------------------------\n",
      "\n",
      "Total no of instances/records associated with 'S' is ➡ 14\n",
      "\n",
      "Target attribute class count(Yes/No)= {'No': 5, 'Yes': 9}\n",
      "\n",
      "Classes➡ Yes No\n",
      "\n",
      "Probabilities of Class 'p'='Yes' ➡ 0.6428571428571429\n",
      "Probabilities of Class 'n'='No'  ➡ 0.35714285714285715\n",
      "\n",
      "Information gain of “ Temperature ” is ➡ 0.029222565658954647\n",
      "=========================================================\n",
      "\n",
      "\n",
      "----- Information Gain Calculation of Humidity ----- \n",
      "Grouped Attribute Values \n",
      "      Outlook Temperature Humidity    Wind Play Tennis\n",
      "0      Sunny         Hot     High    Weak          No\n",
      "1      Sunny         Hot     High  Strong          No\n",
      "2   Overcast         Hot     High    Weak         Yes\n",
      "3       Rain        Mild     High    Weak         Yes\n",
      "7      Sunny        Mild     High    Weak          No\n",
      "11  Overcast        Mild     High  Strong         Yes\n",
      "13      Rain        Mild     High  Strong          No\n",
      "---------------------------------------------------------\n",
      "Grouped Attribute Values \n",
      "      Outlook Temperature Humidity    Wind Play Tennis\n",
      "4       Rain        Cool   Normal    Weak         Yes\n",
      "5       Rain        Cool   Normal  Strong          No\n",
      "6   Overcast        Cool   Normal  Strong         Yes\n",
      "8      Sunny        Cool   Normal    Weak         Yes\n",
      "9       Rain        Mild   Normal    Weak         Yes\n",
      "10     Sunny        Mild   Normal  Strong         Yes\n",
      "12  Overcast         Hot   Normal    Weak         Yes\n",
      "---------------------------------------------------------\n",
      "---------------------------------------------------------\n",
      "\n",
      "Total no of instances/records associated with 'High' is ➡ 7\n",
      "\n",
      "Target attribute class count(Yes/No)= {'No': 4, 'Yes': 3}\n",
      "\n",
      "Classes➡ Yes No\n",
      "\n",
      "Probabilities of Class 'p'='Yes' ➡ 0.5714285714285714\n",
      "Probabilities of Class 'n'='No'  ➡ 0.42857142857142855\n",
      "---------------------------------------------------------\n",
      "\n",
      "Total no of instances/records associated with 'Normal' is ➡ 7\n",
      "\n",
      "Target attribute class count(Yes/No)= {'Yes': 6, 'No': 1}\n",
      "\n",
      "Classes➡ Yes No\n",
      "\n",
      "Probabilities of Class 'p'='Yes' ➡ 0.8571428571428571\n",
      "Probabilities of Class 'n'='No'  ➡ 0.14285714285714285\n",
      "---------------------------------------------------------\n",
      "\n",
      "Total no of instances/records associated with 'S' is ➡ 14\n",
      "\n",
      "Target attribute class count(Yes/No)= {'No': 5, 'Yes': 9}\n",
      "\n",
      "Classes➡ Yes No\n",
      "\n",
      "Probabilities of Class 'p'='Yes' ➡ 0.6428571428571429\n",
      "Probabilities of Class 'n'='No'  ➡ 0.35714285714285715\n",
      "\n",
      "Information gain of “ Humidity ” is ➡ 0.15183550136234136\n",
      "=========================================================\n",
      "\n",
      "\n",
      "----- Information Gain Calculation of Wind ----- \n",
      "Grouped Attribute Values \n",
      "      Outlook Temperature Humidity    Wind Play Tennis\n",
      "1      Sunny         Hot     High  Strong          No\n",
      "5       Rain        Cool   Normal  Strong          No\n",
      "6   Overcast        Cool   Normal  Strong         Yes\n",
      "10     Sunny        Mild   Normal  Strong         Yes\n",
      "11  Overcast        Mild     High  Strong         Yes\n",
      "13      Rain        Mild     High  Strong          No\n",
      "---------------------------------------------------------\n",
      "Grouped Attribute Values \n",
      "      Outlook Temperature Humidity  Wind Play Tennis\n",
      "0      Sunny         Hot     High  Weak          No\n",
      "2   Overcast         Hot     High  Weak         Yes\n",
      "3       Rain        Mild     High  Weak         Yes\n",
      "4       Rain        Cool   Normal  Weak         Yes\n",
      "7      Sunny        Mild     High  Weak          No\n",
      "8      Sunny        Cool   Normal  Weak         Yes\n",
      "9       Rain        Mild   Normal  Weak         Yes\n",
      "12  Overcast         Hot   Normal  Weak         Yes\n",
      "---------------------------------------------------------\n",
      "---------------------------------------------------------\n",
      "\n",
      "Total no of instances/records associated with 'Strong' is ➡ 6\n",
      "\n",
      "Target attribute class count(Yes/No)= {'No': 3, 'Yes': 3}\n",
      "\n",
      "Classes➡ Yes No\n",
      "\n",
      "Probabilities of Class 'p'='Yes' ➡ 0.5\n",
      "Probabilities of Class 'n'='No'  ➡ 0.5\n",
      "---------------------------------------------------------\n",
      "\n",
      "Total no of instances/records associated with 'Weak' is ➡ 8\n",
      "\n",
      "Target attribute class count(Yes/No)= {'No': 2, 'Yes': 6}\n",
      "\n",
      "Classes➡ Yes No\n",
      "\n",
      "Probabilities of Class 'p'='Yes' ➡ 0.75\n",
      "Probabilities of Class 'n'='No'  ➡ 0.25\n",
      "---------------------------------------------------------\n",
      "\n",
      "Total no of instances/records associated with 'S' is ➡ 14\n",
      "\n",
      "Target attribute class count(Yes/No)= {'No': 5, 'Yes': 9}\n",
      "\n",
      "Classes➡ Yes No\n",
      "\n",
      "Probabilities of Class 'p'='Yes' ➡ 0.6428571428571429\n",
      "Probabilities of Class 'n'='No'  ➡ 0.35714285714285715\n",
      "\n",
      "Information gain of “ Wind ” is ➡ 0.04812703040826927\n",
      "=========================================================\n",
      "\n",
      "List of Gain for arrtibutes: ['Outlook', 'Temperature', 'Humidity', 'Wind'] \n",
      "are: [0.2467498197744391, 0.029222565658954647, 0.15183550136234136, 0.04812703040826927] respectively.\n",
      "\n",
      "Attribute with the maximum gain is ➡ Outlook\n",
      "\n",
      "Hence, the Root node will be ➡ Outlook\n",
      "=========================================================\n"
     ]
    },
    {
     "ename": "NameError",
     "evalue": "name 'tree' is not defined",
     "output_type": "error",
     "traceback": [
      "\u001b[1;31m---------------------------------------------------------------------------\u001b[0m",
      "\u001b[1;31mNameError\u001b[0m                                 Traceback (most recent call last)",
      "\u001b[1;32mc:\\Users\\vedan\\OneDrive\\Documents\\Mywork\\python\\amlexp-5(re).ipynb Cell 7\u001b[0m line \u001b[0;36m2\n\u001b[0;32m     <a href='vscode-notebook-cell:/c%3A/Users/vedan/OneDrive/Documents/Mywork/python/amlexp-5%28re%29.ipynb#W6sZmlsZQ%3D%3D?line=19'>20</a>\u001b[0m \u001b[39mprint\u001b[39m(\u001b[39m\"\u001b[39m\u001b[39m=========================================================\u001b[39m\u001b[39m\"\u001b[39m)\n\u001b[0;32m     <a href='vscode-notebook-cell:/c%3A/Users/vedan/OneDrive/Documents/Mywork/python/amlexp-5%28re%29.ipynb#W6sZmlsZQ%3D%3D?line=21'>22</a>\u001b[0m \u001b[39mfrom\u001b[39;00m \u001b[39mpprint\u001b[39;00m \u001b[39mimport\u001b[39;00m pprint\n\u001b[1;32m---> <a href='vscode-notebook-cell:/c%3A/Users/vedan/OneDrive/Documents/Mywork/python/amlexp-5%28re%29.ipynb#W6sZmlsZQ%3D%3D?line=22'>23</a>\u001b[0m tree \u001b[39m=\u001b[39m id3(df,t,attribute_names)\n\u001b[0;32m     <a href='vscode-notebook-cell:/c%3A/Users/vedan/OneDrive/Documents/Mywork/python/amlexp-5%28re%29.ipynb#W6sZmlsZQ%3D%3D?line=23'>24</a>\u001b[0m \u001b[39mprint\u001b[39m(\u001b[39m\"\u001b[39m\u001b[39m\\n\u001b[39;00m\u001b[39mThe Resultant Decision Tree is: ⤵\u001b[39m\u001b[39m\\n\u001b[39;00m\u001b[39m\"\u001b[39m)\n\u001b[0;32m     <a href='vscode-notebook-cell:/c%3A/Users/vedan/OneDrive/Documents/Mywork/python/amlexp-5%28re%29.ipynb#W6sZmlsZQ%3D%3D?line=24'>25</a>\u001b[0m pprint(tree)\n",
      "\u001b[1;32mc:\\Users\\vedan\\OneDrive\\Documents\\Mywork\\python\\amlexp-5(re).ipynb Cell 7\u001b[0m line \u001b[0;36m3\n\u001b[0;32m     <a href='vscode-notebook-cell:/c%3A/Users/vedan/OneDrive/Documents/Mywork/python/amlexp-5%28re%29.ipynb#W6sZmlsZQ%3D%3D?line=29'>30</a>\u001b[0m \u001b[39mfor\u001b[39;00m attr_val, data_subset \u001b[39min\u001b[39;00m df\u001b[39m.\u001b[39mgroupby(best_attr):\n\u001b[0;32m     <a href='vscode-notebook-cell:/c%3A/Users/vedan/OneDrive/Documents/Mywork/python/amlexp-5%28re%29.ipynb#W6sZmlsZQ%3D%3D?line=30'>31</a>\u001b[0m     subtree \u001b[39m=\u001b[39m id3(data_subset,target_attribute, remaining_attribute_names,default_class,best_attr)\n\u001b[1;32m---> <a href='vscode-notebook-cell:/c%3A/Users/vedan/OneDrive/Documents/Mywork/python/amlexp-5%28re%29.ipynb#W6sZmlsZQ%3D%3D?line=31'>32</a>\u001b[0m     tree[best_attr][attr_val] \u001b[39m=\u001b[39m subtree\n\u001b[0;32m     <a href='vscode-notebook-cell:/c%3A/Users/vedan/OneDrive/Documents/Mywork/python/amlexp-5%28re%29.ipynb#W6sZmlsZQ%3D%3D?line=32'>33</a>\u001b[0m \u001b[39mreturn\u001b[39;00m tree\n",
      "\u001b[1;31mNameError\u001b[0m: name 'tree' is not defined"
     ]
    }
   ],
   "source": [
    "def entropy_dataset(a_list):  \n",
    "    from collections import Counter\n",
    "\n",
    "    cnt = Counter(x for x in a_list)   \n",
    "    num_instances = len(a_list)*1.0   \n",
    "    print(\"\\nNumber of Instances of the Current Sub-Class is {0}\".format(num_instances ))\n",
    "    \n",
    "    probs = [x / num_instances for x in cnt.values()]  \n",
    "    print(\"\\nClasses➡\", \"'p'=\",max(cnt), \"'n'=\",min(cnt))\n",
    "    print(\"\\nProbabilities of Class 'p'='{0}' ➡ {1}\".format(max(cnt),max(probs)))\n",
    "    print(\"Probabilities of Class 'n'='{0}'  ➡ {1}\".format(min(cnt),min(probs)))\n",
    "    \n",
    "    return entropy(probs) \n",
    "    \n",
    "print(\"Entropy calculation for input dataset:\\n\")\n",
    "print(df['Play Tennis'])\n",
    "\n",
    "total_entropy = entropy_dataset(df['Play Tennis'])\n",
    "print(\"\\nTotal Entropy(S) of Play Tennis Dataset➡\", total_entropy)\n",
    "print(\"=========================================================\")\n",
    "\n",
    "from pprint import pprint\n",
    "tree = id3(df,t,attribute_names)\n",
    "print(\"\\nThe Resultant Decision Tree is: ⤵\\n\")\n",
    "pprint(tree)\n",
    "\n",
    "attribute = next(iter(tree))\n",
    "print(\"\\nBest Attribute ➡\",attribute)\n",
    "print(\"Tree Keys      ➡\",tree[attribute].keys())"
   ]
  },
  {
   "cell_type": "code",
   "execution_count": 9,
   "metadata": {},
   "outputs": [],
   "source": [
    "from sklearn import preprocessing\n",
    "my_label=preprocessing.LabelEncoder()\n",
    "df['Outlook']=my_label.fit_transform(df['Outlook'])\n",
    "\n",
    "df['Temperature']=my_label.fit_transform(df['Temperature'])\n",
    "\n",
    "df['Humidity']=my_label.fit_transform(df['Humidity'])\n",
    "\n",
    "df['Wind']=my_label.fit_transform(df['Wind'])\n",
    "\n",
    "df['Play Tennis']=my_label.fit_transform(df['Play Tennis'])"
   ]
  },
  {
   "cell_type": "code",
   "execution_count": null,
   "metadata": {},
   "outputs": [
    {
     "data": {
      "text/html": [
       "<div>\n",
       "<style scoped>\n",
       "    .dataframe tbody tr th:only-of-type {\n",
       "        vertical-align: middle;\n",
       "    }\n",
       "\n",
       "    .dataframe tbody tr th {\n",
       "        vertical-align: top;\n",
       "    }\n",
       "\n",
       "    .dataframe thead th {\n",
       "        text-align: right;\n",
       "    }\n",
       "</style>\n",
       "<table border=\"1\" class=\"dataframe\">\n",
       "  <thead>\n",
       "    <tr style=\"text-align: right;\">\n",
       "      <th></th>\n",
       "      <th>Outlook</th>\n",
       "      <th>Temperature</th>\n",
       "      <th>Humidity</th>\n",
       "      <th>Wind</th>\n",
       "      <th>Play Tennis</th>\n",
       "    </tr>\n",
       "  </thead>\n",
       "  <tbody>\n",
       "    <tr>\n",
       "      <th>0</th>\n",
       "      <td>2</td>\n",
       "      <td>1</td>\n",
       "      <td>0</td>\n",
       "      <td>1</td>\n",
       "      <td>0</td>\n",
       "    </tr>\n",
       "    <tr>\n",
       "      <th>1</th>\n",
       "      <td>2</td>\n",
       "      <td>1</td>\n",
       "      <td>0</td>\n",
       "      <td>0</td>\n",
       "      <td>0</td>\n",
       "    </tr>\n",
       "    <tr>\n",
       "      <th>2</th>\n",
       "      <td>0</td>\n",
       "      <td>1</td>\n",
       "      <td>0</td>\n",
       "      <td>1</td>\n",
       "      <td>1</td>\n",
       "    </tr>\n",
       "    <tr>\n",
       "      <th>3</th>\n",
       "      <td>1</td>\n",
       "      <td>2</td>\n",
       "      <td>0</td>\n",
       "      <td>1</td>\n",
       "      <td>1</td>\n",
       "    </tr>\n",
       "    <tr>\n",
       "      <th>4</th>\n",
       "      <td>1</td>\n",
       "      <td>0</td>\n",
       "      <td>1</td>\n",
       "      <td>1</td>\n",
       "      <td>1</td>\n",
       "    </tr>\n",
       "  </tbody>\n",
       "</table>\n",
       "</div>"
      ],
      "text/plain": [
       "   Outlook  Temperature  Humidity  Wind  Play Tennis\n",
       "0        2            1         0     1            0\n",
       "1        2            1         0     0            0\n",
       "2        0            1         0     1            1\n",
       "3        1            2         0     1            1\n",
       "4        1            0         1     1            1"
      ]
     },
     "execution_count": 11,
     "metadata": {},
     "output_type": "execute_result"
    }
   ],
   "source": [
    "df.head()"
   ]
  },
  {
   "cell_type": "code",
   "execution_count": 10,
   "metadata": {},
   "outputs": [],
   "source": [
    "X=df[['Outlook','Temperature','Humidity','Wind',]]\n",
    "y=df['Play Tennis']"
   ]
  },
  {
   "cell_type": "code",
   "execution_count": 14,
   "metadata": {},
   "outputs": [],
   "source": [
    "from sklearn.model_selection import train_test_split\n",
    "X_train, X_test, y_train, y_test = train_test_split(X, y, test_size=0.25, random_state=42)"
   ]
  },
  {
   "cell_type": "code",
   "execution_count": 12,
   "metadata": {},
   "outputs": [],
   "source": [
    "from sklearn.tree import DecisionTreeClassifier\n",
    "\n",
    "dtree = DecisionTreeClassifier(criterion='entropy',max_depth=2)\n",
    "dtree.fit(X_train,y_train)\n",
    "predictions = dtree.predict(X_test)"
   ]
  },
  {
   "cell_type": "code",
   "execution_count": 13,
   "metadata": {},
   "outputs": [
    {
     "data": {
      "image/png": "[encoded data removed]",
      "text/plain": [
       "<Figure size 1600x1200 with 1 Axes>"
      ]
     },
     "metadata": {},
     "output_type": "display_data"
    }
   ],
   "source": [
    "from sklearn.tree import plot_tree\n",
    "\n",
    "import matplotlib.pyplot as plt\n",
    "fig = plt.figure(figsize=(16,12))\n",
    "a = plot_tree(dtree, feature_names=X.columns, fontsize=12, filled=True, \n",
    "              class_names=['Not_Play', 'Play'])"
   ]
  },
  {
   "cell_type": "code",
   "execution_count": 15,
   "metadata": {},
   "outputs": [
    {
     "name": "stdout",
     "output_type": "stream",
     "text": [
      "Model accuracy score with 100 decision-trees : 0.7500\n"
     ]
    }
   ],
   "source": [
    "from sklearn.ensemble import RandomForestClassifier\n",
    "from sklearn.metrics import accuracy_score\n",
    "rfc_100 = RandomForestClassifier(n_estimators=100, random_state=0)\n",
    "\n",
    "rfc_100.fit(X_train, y_train)\n",
    "\n",
    "y_pred_100 = rfc_100.predict(X_test)\n",
    "\n",
    "print('Model accuracy score with 100 decision-trees : {0:0.4f}'. format(accuracy_score(y_test, y_pred_100)))"
   ]
  },
  {
   "cell_type": "code",
   "execution_count": 16,
   "metadata": {},
   "outputs": [
    {
     "data": {
      "text/plain": [
       "array([[1, 0],\n",
       "       [1, 2]], dtype=int64)"
      ]
     },
     "execution_count": 16,
     "metadata": {},
     "output_type": "execute_result"
    }
   ],
   "source": [
    "from sklearn.metrics import accuracy_score,f1_score,precision_score,recall_score,classification_report,confusion_matrix\n",
    "hello=confusion_matrix(y_test,y_pred_100)\n",
    "hello"
   ]
  },
  {
   "cell_type": "code",
   "execution_count": 17,
   "metadata": {},
   "outputs": [
    {
     "data": {
      "text/plain": [
       "<Axes: >"
      ]
     },
     "execution_count": 17,
     "metadata": {},
     "output_type": "execute_result"
    },
    {
     "data": {
      "image/png": "[encoded data removed]",
      "text/plain": [
       "<Figure size 640x480 with 2 Axes>"
      ]
     },
     "metadata": {},
     "output_type": "display_data"
    }
   ],
   "source": [
    "import seaborn as sns\n",
    "sns.heatmap(hello,cmap='hot',annot=True)"
   ]
  },
  {
   "cell_type": "code",
   "execution_count": 19,
   "metadata": {},
   "outputs": [
    {
     "name": "stdout",
     "output_type": "stream",
     "text": [
      "0.75\n"
     ]
    }
   ],
   "source": [
    "print(accuracy_score(y_test,y_pred_100))"
   ]
  },
  {
   "cell_type": "code",
   "execution_count": 20,
   "metadata": {},
   "outputs": [
    {
     "name": "stdout",
     "output_type": "stream",
     "text": [
      "1.0\n"
     ]
    }
   ],
   "source": [
    "print(precision_score(y_test,y_pred_100))"
   ]
  },
  {
   "cell_type": "code",
   "execution_count": 21,
   "metadata": {},
   "outputs": [
    {
     "name": "stdout",
     "output_type": "stream",
     "text": [
      "0.6666666666666666\n"
     ]
    }
   ],
   "source": [
    "print(recall_score(y_test,y_pred_100))"
   ]
  },
  {
   "cell_type": "code",
   "execution_count": 22,
   "metadata": {},
   "outputs": [
    {
     "name": "stdout",
     "output_type": "stream",
     "text": [
      "0.8\n"
     ]
    }
   ],
   "source": [
    "print(f1_score(y_test,y_pred_100))"
   ]
  }
 ],
 "metadata": {
  "kernelspec": {
   "display_name": "vedant_envir",
   "language": "python",
   "name": "python3"
  },
  "language_info": {
   "codemirror_mode": {
    "name": "ipython",
    "version": 3
   },
   "file_extension": ".py",
   "mimetype": "text/x-python",
   "name": "python",
   "nbconvert_exporter": "python",
   "pygments_lexer": "ipython3",
   "version": "3.10.12"
  },
  "orig_nbformat": 4
 },
 "nbformat": 4,
 "nbformat_minor": 2
}
