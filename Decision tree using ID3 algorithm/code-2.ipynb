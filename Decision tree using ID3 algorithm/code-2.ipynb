{
 "cells": [
  {
   "cell_type": "code",
   "execution_count": 57,
   "metadata": {},
   "outputs": [],
   "source": [
    "import pandas as pd\n",
    "import numpy as np\n",
    "import matplotlib.pyplot as plt\n",
    "import seaborn as sns"
   ]
  },
  {
   "cell_type": "code",
   "execution_count": 79,
   "metadata": {},
   "outputs": [],
   "source": [
    "df=pd.read_csv(\"D:\\\\datasets\\\\archive (1)\\\\PlayTennis.csv\")"
   ]
  },
  {
   "cell_type": "code",
   "execution_count": 59,
   "metadata": {},
   "outputs": [
    {
     "data": {
      "text/html": [
       "<div>\n",
       "<style scoped>\n",
       "    .dataframe tbody tr th:only-of-type {\n",
       "        vertical-align: middle;\n",
       "    }\n",
       "\n",
       "    .dataframe tbody tr th {\n",
       "        vertical-align: top;\n",
       "    }\n",
       "\n",
       "    .dataframe thead th {\n",
       "        text-align: right;\n",
       "    }\n",
       "</style>\n",
       "<table border=\"1\" class=\"dataframe\">\n",
       "  <thead>\n",
       "    <tr style=\"text-align: right;\">\n",
       "      <th></th>\n",
       "      <th>Outlook</th>\n",
       "      <th>Temperature</th>\n",
       "      <th>Humidity</th>\n",
       "      <th>Wind</th>\n",
       "      <th>Play Tennis</th>\n",
       "    </tr>\n",
       "  </thead>\n",
       "  <tbody>\n",
       "    <tr>\n",
       "      <th>0</th>\n",
       "      <td>Sunny</td>\n",
       "      <td>Hot</td>\n",
       "      <td>High</td>\n",
       "      <td>Weak</td>\n",
       "      <td>No</td>\n",
       "    </tr>\n",
       "    <tr>\n",
       "      <th>1</th>\n",
       "      <td>Sunny</td>\n",
       "      <td>Hot</td>\n",
       "      <td>High</td>\n",
       "      <td>Strong</td>\n",
       "      <td>No</td>\n",
       "    </tr>\n",
       "    <tr>\n",
       "      <th>2</th>\n",
       "      <td>Overcast</td>\n",
       "      <td>Hot</td>\n",
       "      <td>High</td>\n",
       "      <td>Weak</td>\n",
       "      <td>Yes</td>\n",
       "    </tr>\n",
       "    <tr>\n",
       "      <th>3</th>\n",
       "      <td>Rain</td>\n",
       "      <td>Mild</td>\n",
       "      <td>High</td>\n",
       "      <td>Weak</td>\n",
       "      <td>Yes</td>\n",
       "    </tr>\n",
       "    <tr>\n",
       "      <th>4</th>\n",
       "      <td>Rain</td>\n",
       "      <td>Cool</td>\n",
       "      <td>Normal</td>\n",
       "      <td>Weak</td>\n",
       "      <td>Yes</td>\n",
       "    </tr>\n",
       "  </tbody>\n",
       "</table>\n",
       "</div>"
      ],
      "text/plain": [
       "    Outlook Temperature Humidity    Wind Play Tennis\n",
       "0     Sunny         Hot     High    Weak          No\n",
       "1     Sunny         Hot     High  Strong          No\n",
       "2  Overcast         Hot     High    Weak         Yes\n",
       "3      Rain        Mild     High    Weak         Yes\n",
       "4      Rain        Cool   Normal    Weak         Yes"
      ]
     },
     "execution_count": 59,
     "metadata": {},
     "output_type": "execute_result"
    }
   ],
   "source": [
    "df.head()"
   ]
  },
  {
   "cell_type": "code",
   "execution_count": 60,
   "metadata": {},
   "outputs": [
    {
     "name": "stdout",
     "output_type": "stream",
     "text": [
      "<class 'pandas.core.frame.DataFrame'>\n",
      "RangeIndex: 14 entries, 0 to 13\n",
      "Data columns (total 5 columns):\n",
      " #   Column       Non-Null Count  Dtype \n",
      "---  ------       --------------  ----- \n",
      " 0   Outlook      14 non-null     object\n",
      " 1   Temperature  14 non-null     object\n",
      " 2   Humidity     14 non-null     object\n",
      " 3   Wind         14 non-null     object\n",
      " 4   Play Tennis  14 non-null     object\n",
      "dtypes: object(5)\n",
      "memory usage: 688.0+ bytes\n"
     ]
    }
   ],
   "source": [
    "df.info()"
   ]
  },
  {
   "cell_type": "code",
   "execution_count": 61,
   "metadata": {},
   "outputs": [
    {
     "data": {
      "text/plain": [
       "Outlook        0\n",
       "Temperature    0\n",
       "Humidity       0\n",
       "Wind           0\n",
       "Play Tennis    0\n",
       "dtype: int64"
      ]
     },
     "execution_count": 61,
     "metadata": {},
     "output_type": "execute_result"
    }
   ],
   "source": [
    "df.isnull().sum()"
   ]
  },
  {
   "cell_type": "code",
   "execution_count": 62,
   "metadata": {},
   "outputs": [],
   "source": [
    "from sklearn import preprocessing\n",
    "my_label=preprocessing.LabelEncoder()\n",
    "df['Outlook']=my_label.fit_transform(df['Outlook'])\n",
    "\n",
    "df['Temperature']=my_label.fit_transform(df['Temperature'])\n",
    "\n",
    "df['Humidity']=my_label.fit_transform(df['Humidity'])\n",
    "\n",
    "df['Wind']=my_label.fit_transform(df['Wind'])\n",
    "\n",
    "df['Play Tennis']=my_label.fit_transform(df['Play Tennis'])"
   ]
  },
  {
   "cell_type": "code",
   "execution_count": 63,
   "metadata": {},
   "outputs": [],
   "source": [
    "column = 'Outlook'\n",
    "df[column] = (df[column] - df[column].min()) / (df[column].max() - df[column].min()) \n",
    "column = 'Temperature'\n",
    "df[column] = (df[column] - df[column].min()) / (df[column].max() - df[column].min()) \n",
    "column = 'Humidity'\n",
    "df[column] = (df[column] - df[column].min()) / (df[column].max() - df[column].min()) \n",
    "column = 'Wind'\n",
    "df[column] = (df[column] - df[column].min()) / (df[column].max() - df[column].min()) \n",
    "column = 'Play Tennis'\n",
    "df[column] = (df[column] - df[column].min()) / (df[column].max() - df[column].min()) "
   ]
  },
  {
   "cell_type": "code",
   "execution_count": 80,
   "metadata": {},
   "outputs": [],
   "source": [
    "from operator import itemgetter\n",
    "import math"
   ]
  },
  {
   "cell_type": "code",
   "execution_count": 81,
   "metadata": {},
   "outputs": [],
   "source": [
    "class DecisionTree:\n",
    "    def __init__(self, df, target, positive, parent_val, parent):\n",
    "        self.data = df\n",
    "        self.target = target\n",
    "        self.positive = positive\n",
    "        self.parent_val = parent_val\n",
    "        self.parent = parent\n",
    "        self.childs = []\n",
    "        self.decision = ''\n",
    "\n",
    "    def _get_entropy(self, data):\n",
    "        p = sum(data[self.target]==self.positive)\n",
    "        n = data.shape[0] - p\n",
    "        p_ratio = p/(p+n)\n",
    "        n_ratio = 1 - p_ratio\n",
    "        entropy_p = -p_ratio*math.log2(p_ratio) if p_ratio != 0 else 0\n",
    "        entropy_n = - n_ratio*math.log2(n_ratio) if n_ratio !=0 else 0\n",
    "        return entropy_p + entropy_n\n",
    "    \n",
    "    def _get_gain(self, feat):\n",
    "        avg_info=0\n",
    "        for val in self.data[feat].unique():\n",
    "            avg_info+=self._get_entropy(self.data[self.data[feat] == val])*sum(self.data[feat]==val)/self.data.shape[0]\n",
    "        return self._get_entropy(df) - avg_info\n",
    "    \n",
    "    def _get_splitter(self):\n",
    "        self.splitter = max(self.gains, key = itemgetter(1))[0] \n",
    "    \n",
    "    def update_nodes(self):\n",
    "        self.features = [col for col in self.data.columns if col != self.target]\n",
    "        self.entropy = self._get_entropy(self.data)\n",
    "        if self.entropy != 0:\n",
    "            self.gains = [(feat, self._get_gain(feat)) for feat in self.features]\n",
    "            self._get_splitter()\n",
    "            residual_columns = [k for k in self.data.columns if k != self.splitter]\n",
    "            for val in self.data[self.splitter].unique():\n",
    "                df_tmp = self.data[self.data[self.splitter]==val][residual_columns]\n",
    "                tmp_node = DecisionTree(df_tmp, self.target, self.positive, val, self.splitter)\n",
    "                tmp_node.update_nodes()\n",
    "                self.childs.append(tmp_node)"
   ]
  },
  {
   "cell_type": "code",
   "execution_count": 82,
   "metadata": {},
   "outputs": [],
   "source": [
    "def print_tree(n):\n",
    "    for child in n.childs:\n",
    "        if child:\n",
    "            print(child.__dict__.get('parent', ''))\n",
    "            print(child.__dict__.get('parent_val', ''), '\\n')\n",
    "            print_tree(child)"
   ]
  },
  {
   "cell_type": "code",
   "execution_count": 83,
   "metadata": {},
   "outputs": [
    {
     "name": "stdout",
     "output_type": "stream",
     "text": [
      "Outlook\n",
      "Sunny \n",
      "\n",
      "Humidity\n",
      "High \n",
      "\n",
      "Humidity\n",
      "Normal \n",
      "\n",
      "Outlook\n",
      "Overcast \n",
      "\n",
      "Outlook\n",
      "Rain \n",
      "\n",
      "Wind\n",
      "Weak \n",
      "\n",
      "Wind\n",
      "Strong \n",
      "\n"
     ]
    }
   ],
   "source": [
    "dt = DecisionTree(df, 'Play Tennis', 'Yes', '', '')\n",
    "dt.update_nodes()\n",
    "print_tree(dt)"
   ]
  }
 ],
 "metadata": {
  "kernelspec": {
   "display_name": "vedant_envir",
   "language": "python",
   "name": "python3"
  },
  "language_info": {
   "codemirror_mode": {
    "name": "ipython",
    "version": 3
   },
   "file_extension": ".py",
   "mimetype": "text/x-python",
   "name": "python",
   "nbconvert_exporter": "python",
   "pygments_lexer": "ipython3",
   "version": "3.10.12"
  },
  "orig_nbformat": 4
 },
 "nbformat": 4,
 "nbformat_minor": 2
}
